{
 "cells": [
  {
   "cell_type": "code",
   "execution_count": 1,
   "metadata": {
    "collapsed": true
   },
   "outputs": [],
   "source": [
    "import sys \n",
    "# sys.path=[]\n",
    "# sys.path.insert(0,\"/Users/PHE/Documents/github/e_sun/env/lib/python3.6/site-packages\")"
   ]
  },
  {
   "cell_type": "code",
   "execution_count": 2,
   "metadata": {
    "collapsed": false
   },
   "outputs": [
    {
     "name": "stdout",
     "output_type": "stream",
     "text": [
      "['', '/Library/Frameworks/Python.framework/Versions/3.6/lib/python36.zip', '/Library/Frameworks/Python.framework/Versions/3.6/lib/python3.6', '/Library/Frameworks/Python.framework/Versions/3.6/lib/python3.6/lib-dynload', '/Users/PHE/Library/Python/3.6/lib/python/site-packages', '/Library/Frameworks/Python.framework/Versions/3.6/lib/python3.6/site-packages', '/Library/Frameworks/Python.framework/Versions/3.6/lib/python3.6/site-packages/IPython/extensions', '/Users/PHE/.ipython']\n"
     ]
    }
   ],
   "source": [
    "print(sys.path)"
   ]
  },
  {
   "cell_type": "code",
   "execution_count": 3,
   "metadata": {
    "collapsed": false
   },
   "outputs": [],
   "source": [
    "sys.path=['', '/Library/Frameworks/Python.framework/Versions/3.6/lib/python36.zip', '/Library/Frameworks/Python.framework/Versions/3.6/lib/python3.6', '/Library/Frameworks/Python.framework/Versions/3.6/lib/python3.6/lib-dynload', '/Users/PHE/Documents/github/e_sun/env/lib/python3.6/site-packages']"
   ]
  },
  {
   "cell_type": "code",
   "execution_count": 4,
   "metadata": {
    "collapsed": false
   },
   "outputs": [
    {
     "name": "stderr",
     "output_type": "stream",
     "text": [
      "/Users/PHE/Documents/github/e_sun/app/__init__.py:10: ExtDeprecationWarning: Importing flask.ext.login is deprecated, use flask_login instead.\n",
      "  from flask.ext.login import LoginManager\n",
      "/Users/PHE/Documents/github/e_sun/env/lib/python3.6/site-packages/flask_sqlalchemy/__init__.py:839: FSADeprecationWarning: SQLALCHEMY_TRACK_MODIFICATIONS adds significant overhead and will be disabled by default in the future.  Set it to True or False to suppress this warning.\n",
      "  'SQLALCHEMY_TRACK_MODIFICATIONS adds significant overhead and '\n",
      "/Users/PHE/Documents/github/e_sun/app/forms.py:7: ExtDeprecationWarning: Importing flask.ext.wtf is deprecated, use flask_wtf instead.\n",
      "  from flask.ext.wtf import Form\n",
      "/Users/PHE/Documents/github/e_sun/env/lib/python3.6/site-packages/flask_wtf/i18n.py:13: ExtDeprecationWarning: Importing flask.ext.babel is deprecated, use flask_babel instead.\n",
      "  from flask.ext.babel import get_locale\n"
     ]
    }
   ],
   "source": [
    "from app import db"
   ]
  },
  {
   "cell_type": "code",
   "execution_count": 5,
   "metadata": {
    "collapsed": false
   },
   "outputs": [],
   "source": [
    "import json\n",
    "\n",
    "with open('/Users/PHE/Documents/github/e_sun/analysis/user_profile_final_mat.json') as json_data:\n",
    "    d = json.load(json_data)\n",
    "    "
   ]
  },
  {
   "cell_type": "code",
   "execution_count": 6,
   "metadata": {
    "collapsed": false
   },
   "outputs": [],
   "source": [
    "from app.models import User\n",
    "from web3 import Web3, KeepAliveRPCProvider, IPCProvider\n",
    "web3 = Web3(KeepAliveRPCProvider(host='idea2f2p4.eastasia.cloudapp.azure.com', port='8545'))\n",
    "master_address = web3.eth.coinbase\n",
    "master_passphrase = '1QAZ2wsx3edc'\n",
    "import uuid\n"
   ]
  },
  {
   "cell_type": "code",
   "execution_count": 13,
   "metadata": {
    "collapsed": false
   },
   "outputs": [
    {
     "name": "stdout",
     "output_type": "stream",
     "text": [
      "0 url2\n",
      "1 default_probability_level\n",
      "2 url1\n",
      "3 good_score\n",
      "4 mortgage\n",
      "5 ever_in_use\n",
      "6 revolving_amount\n",
      "7 resident_status\n",
      "8 education_level\n",
      "9 score\n",
      "10 employment_year\n",
      "11 pre_owned_status\n",
      "12 credit_score\n",
      "13 review_std\n",
      "14 occupation\n",
      "15 review_median\n",
      "16 debt_amount\n",
      "17 credit_matrix\n",
      "18 review_mean\n",
      "19 revolving_count\n",
      "20 ave\n",
      "21 limit_amount\n",
      "22 review_num\n",
      "23 credit_card_status\n",
      "24 max_loan_period\n",
      "25 max_limit\n",
      "26 default_probability\n",
      "27 review_pos\n",
      "28 annual_income\n",
      "29 debt_status\n",
      "30 interest_rate\n",
      "31 shop_name\n",
      "32 total_score\n",
      "33 balance_amount\n",
      "34 delinquent\n",
      "35 debt\n",
      "36 fee_amount\n",
      "37 age\n"
     ]
    },
    {
     "name": "stderr",
     "output_type": "stream",
     "text": [
      "Exception in thread Thread-4:\n",
      "Traceback (most recent call last):\n",
      "  File \"/Users/PHE/Documents/github/e_sun/env/lib/python3.6/site-packages/sqlalchemy/engine/base.py\", line 1182, in _execute_context\n",
      "    context)\n",
      "  File \"/Users/PHE/Documents/github/e_sun/env/lib/python3.6/site-packages/sqlalchemy/engine/default.py\", line 470, in do_execute\n",
      "    cursor.execute(statement, parameters)\n",
      "  File \"/Users/PHE/Documents/github/e_sun/env/lib/python3.6/site-packages/MySQLdb/cursors.py\", line 250, in execute\n",
      "    self.errorhandler(self, exc, value)\n",
      "  File \"/Users/PHE/Documents/github/e_sun/env/lib/python3.6/site-packages/MySQLdb/connections.py\", line 50, in defaulterrorhandler\n",
      "    raise errorvalue\n",
      "  File \"/Users/PHE/Documents/github/e_sun/env/lib/python3.6/site-packages/MySQLdb/cursors.py\", line 247, in execute\n",
      "    res = self._query(query)\n",
      "  File \"/Users/PHE/Documents/github/e_sun/env/lib/python3.6/site-packages/MySQLdb/cursors.py\", line 411, in _query\n",
      "    rowcount = self._do_query(q)\n",
      "  File \"/Users/PHE/Documents/github/e_sun/env/lib/python3.6/site-packages/MySQLdb/cursors.py\", line 374, in _do_query\n",
      "    db.query(q)\n",
      "  File \"/Users/PHE/Documents/github/e_sun/env/lib/python3.6/site-packages/MySQLdb/connections.py\", line 292, in query\n",
      "    _mysql.connection.query(self, query)\n",
      "_mysql_exceptions.IntegrityError: (1062, \"Duplicate entry '21' for key 'PRIMARY'\")\n",
      "\n",
      "The above exception was the direct cause of the following exception:\n",
      "\n",
      "Traceback (most recent call last):\n",
      "  File \"/Library/Frameworks/Python.framework/Versions/3.6/lib/python3.6/threading.py\", line 916, in _bootstrap_inner\n",
      "    self.run()\n",
      "  File \"/Library/Frameworks/Python.framework/Versions/3.6/lib/python3.6/threading.py\", line 864, in run\n",
      "    self._target(*self._args, **self._kwargs)\n",
      "  File \"/Users/PHE/Documents/github/e_sun/env/lib/python3.6/site-packages/web3/utils/filters.py\", line 89, in _run\n",
      "    callback_fn(self.format_entry(entry))\n",
      "  File \"/Users/PHE/Documents/github/e_sun/app/models.py\", line 368, in deal_created_callback\n",
      "    deal_db_session.commit()\n",
      "  File \"/Users/PHE/Documents/github/e_sun/env/lib/python3.6/site-packages/sqlalchemy/orm/scoping.py\", line 157, in do\n",
      "    return getattr(self.registry(), name)(*args, **kwargs)\n",
      "  File \"/Users/PHE/Documents/github/e_sun/env/lib/python3.6/site-packages/sqlalchemy/orm/session.py\", line 874, in commit\n",
      "    self.transaction.commit()\n",
      "  File \"/Users/PHE/Documents/github/e_sun/env/lib/python3.6/site-packages/sqlalchemy/orm/session.py\", line 461, in commit\n",
      "    self._prepare_impl()\n",
      "  File \"/Users/PHE/Documents/github/e_sun/env/lib/python3.6/site-packages/sqlalchemy/orm/session.py\", line 441, in _prepare_impl\n",
      "    self.session.flush()\n",
      "  File \"/Users/PHE/Documents/github/e_sun/env/lib/python3.6/site-packages/sqlalchemy/orm/session.py\", line 2139, in flush\n",
      "    self._flush(objects)\n",
      "  File \"/Users/PHE/Documents/github/e_sun/env/lib/python3.6/site-packages/sqlalchemy/orm/session.py\", line 2259, in _flush\n",
      "    transaction.rollback(_capture_exception=True)\n",
      "  File \"/Users/PHE/Documents/github/e_sun/env/lib/python3.6/site-packages/sqlalchemy/util/langhelpers.py\", line 66, in __exit__\n",
      "    compat.reraise(exc_type, exc_value, exc_tb)\n",
      "  File \"/Users/PHE/Documents/github/e_sun/env/lib/python3.6/site-packages/sqlalchemy/util/compat.py\", line 187, in reraise\n",
      "    raise value\n",
      "  File \"/Users/PHE/Documents/github/e_sun/env/lib/python3.6/site-packages/sqlalchemy/orm/session.py\", line 2223, in _flush\n",
      "    flush_context.execute()\n",
      "  File \"/Users/PHE/Documents/github/e_sun/env/lib/python3.6/site-packages/sqlalchemy/orm/unitofwork.py\", line 389, in execute\n",
      "    rec.execute(self)\n",
      "  File \"/Users/PHE/Documents/github/e_sun/env/lib/python3.6/site-packages/sqlalchemy/orm/unitofwork.py\", line 548, in execute\n",
      "    uow\n",
      "  File \"/Users/PHE/Documents/github/e_sun/env/lib/python3.6/site-packages/sqlalchemy/orm/persistence.py\", line 181, in save_obj\n",
      "    mapper, table, insert)\n",
      "  File \"/Users/PHE/Documents/github/e_sun/env/lib/python3.6/site-packages/sqlalchemy/orm/persistence.py\", line 799, in _emit_insert_statements\n",
      "    execute(statement, multiparams)\n",
      "  File \"/Users/PHE/Documents/github/e_sun/env/lib/python3.6/site-packages/sqlalchemy/engine/base.py\", line 945, in execute\n",
      "    return meth(self, multiparams, params)\n",
      "  File \"/Users/PHE/Documents/github/e_sun/env/lib/python3.6/site-packages/sqlalchemy/sql/elements.py\", line 263, in _execute_on_connection\n",
      "    return connection._execute_clauseelement(self, multiparams, params)\n",
      "  File \"/Users/PHE/Documents/github/e_sun/env/lib/python3.6/site-packages/sqlalchemy/engine/base.py\", line 1053, in _execute_clauseelement\n",
      "    compiled_sql, distilled_params\n",
      "  File \"/Users/PHE/Documents/github/e_sun/env/lib/python3.6/site-packages/sqlalchemy/engine/base.py\", line 1189, in _execute_context\n",
      "    context)\n",
      "  File \"/Users/PHE/Documents/github/e_sun/env/lib/python3.6/site-packages/sqlalchemy/engine/base.py\", line 1402, in _handle_dbapi_exception\n",
      "    exc_info\n",
      "  File \"/Users/PHE/Documents/github/e_sun/env/lib/python3.6/site-packages/sqlalchemy/util/compat.py\", line 203, in raise_from_cause\n",
      "    reraise(type(exception), exception, tb=exc_tb, cause=cause)\n",
      "  File \"/Users/PHE/Documents/github/e_sun/env/lib/python3.6/site-packages/sqlalchemy/util/compat.py\", line 186, in reraise\n",
      "    raise value.with_traceback(tb)\n",
      "  File \"/Users/PHE/Documents/github/e_sun/env/lib/python3.6/site-packages/sqlalchemy/engine/base.py\", line 1182, in _execute_context\n",
      "    context)\n",
      "  File \"/Users/PHE/Documents/github/e_sun/env/lib/python3.6/site-packages/sqlalchemy/engine/default.py\", line 470, in do_execute\n",
      "    cursor.execute(statement, parameters)\n",
      "  File \"/Users/PHE/Documents/github/e_sun/env/lib/python3.6/site-packages/MySQLdb/cursors.py\", line 250, in execute\n",
      "    self.errorhandler(self, exc, value)\n",
      "  File \"/Users/PHE/Documents/github/e_sun/env/lib/python3.6/site-packages/MySQLdb/connections.py\", line 50, in defaulterrorhandler\n",
      "    raise errorvalue\n",
      "  File \"/Users/PHE/Documents/github/e_sun/env/lib/python3.6/site-packages/MySQLdb/cursors.py\", line 247, in execute\n",
      "    res = self._query(query)\n",
      "  File \"/Users/PHE/Documents/github/e_sun/env/lib/python3.6/site-packages/MySQLdb/cursors.py\", line 411, in _query\n",
      "    rowcount = self._do_query(q)\n",
      "  File \"/Users/PHE/Documents/github/e_sun/env/lib/python3.6/site-packages/MySQLdb/cursors.py\", line 374, in _do_query\n",
      "    db.query(q)\n",
      "  File \"/Users/PHE/Documents/github/e_sun/env/lib/python3.6/site-packages/MySQLdb/connections.py\", line 292, in query\n",
      "    _mysql.connection.query(self, query)\n",
      "sqlalchemy.exc.IntegrityError: (_mysql_exceptions.IntegrityError) (1062, \"Duplicate entry '21' for key 'PRIMARY'\") [SQL: 'INSERT INTO deal (id, item_name, timestamp, buyer_id, seller_id) VALUES (%s, %s, %s, %s, %s)'] [parameters: (21, 'GOR 9H鋼化玻璃膜 Samsung Galaxy A9', '2017-05-20 18:29:19', 'lomantech', 'lhw2238')]\n",
      "\n"
     ]
    }
   ],
   "source": [
    "# d.keys()\n",
    "data = d['flat68328']  \n",
    "for index, data in enumerate(data.keys()):\n",
    "    print(index, data)"
   ]
  },
  {
   "cell_type": "code",
   "execution_count": null,
   "metadata": {
    "collapsed": false
   },
   "outputs": [
    {
     "name": "stdout",
     "output_type": "stream",
     "text": [
      "0988707850\n",
      "0988707850\n"
     ]
    },
    {
     "name": "stderr",
     "output_type": "stream",
     "text": [
      "/Users/PHE/Documents/github/e_sun/env/lib/python3.6/site-packages/sqlalchemy/engine/default.py:470: Warning: (1265, \"Data truncated for column 'employment_year' at row 1\")\n",
      "  cursor.execute(statement, parameters)\n"
     ]
    },
    {
     "name": "stdout",
     "output_type": "stream",
     "text": [
      "d101378\n",
      "球迷世界\n",
      "buyjia\n",
      "JA牧野丁丁MAKINOU\n",
      "f94395\n",
      "$$ 沂軒精品 $$\n",
      "chengxia58\n",
      "chengxia58\n"
     ]
    },
    {
     "name": "stderr",
     "output_type": "stream",
     "text": [
      "/Users/PHE/Documents/github/e_sun/env/lib/python3.6/site-packages/sqlalchemy/engine/default.py:470: Warning: (1265, \"Data truncated for column 'occupation' at row 1\")\n",
      "  cursor.execute(statement, parameters)\n"
     ]
    },
    {
     "name": "stdout",
     "output_type": "stream",
     "text": [
      "s220201\n",
      "s220201\n",
      "s76040424\n",
      "【MOMO CO】\n",
      "cindy05151978\n",
      "cindy05151978\n",
      "gstley\n",
      "潮貼\n",
      "lurehey\n",
      "朵拉愛美麗\n",
      "star050708\n",
      "逢甲-歡樂通信 配件批發\n",
      "cire6611\n",
      "☆*松山基隆路1段6號  方程式單車 ☆*\n",
      "m4a1ram\n",
      "原封代理正公司貨請加我 \n",
      "wv0925\n",
      "喬兒小舖  只提供你嚴選優質商品\n",
      "tel0925198066\n",
      "破盤王 - 最熱銷汽車百貨（台南店）\n",
      "a186pg\n"
     ]
    }
   ],
   "source": [
    "for index, key in enumerate(d.keys()):\n",
    "    if index <16:\n",
    "        continue\n",
    "    data = d[key]\n",
    "    print(key)\n",
    "#     print(data)\n",
    "    ssn = key\n",
    "    eth_password = str(uuid.uuid1())\n",
    "    eth_address = web3.personal.newAccount(eth_password)\n",
    "    credit_score = float(data['credit_score']) * 950\n",
    "\n",
    "    emo = data['credit_matrix'][0]\n",
    "    peo = data['credit_matrix'][1]\n",
    "    sn = data['credit_matrix'][2]\n",
    "    risk = data['credit_matrix'][3]\n",
    "    idt = data['credit_matrix'][4]\n",
    "\n",
    "    if 'norm_emo_freq' in data.keys():\n",
    "        emo_freq_sad = data['norm_emo_freq'][0]\n",
    "        emo_freq_haha = data['norm_emo_freq'][1]\n",
    "        emo_freq_wow = data['norm_emo_freq'][2]\n",
    "        emo_freq_angry = data['norm_emo_freq'][3]\n",
    "        emo_freq_love = data['norm_emo_freq'][4]\n",
    "    else:\n",
    "        emo_freq_sad = 0\n",
    "        emo_freq_haha = 0\n",
    "        emo_freq_wow = 0\n",
    "        emo_freq_angry = 0\n",
    "        emo_freq_love = 0\n",
    "\n",
    "    good_comment = data['good_score']\n",
    "    comment = data['score']\n",
    "    total_comment = data['total_score']\n",
    "    name = data['shop_name']\n",
    "    if '的賣場' in name:\n",
    "        name = key\n",
    "    about_me = data['url1'] + ' ' + data['url2']\n",
    "\n",
    "    education_level = data['education_level']\n",
    "    occupation = data['occupation']\n",
    "    age = data['age']\n",
    "    annual_income = data['annual_income']\n",
    "    employment_year = data['employment_year']\n",
    "    resident_status = data['resident_status']\n",
    "    credit_card_status = data['credit_card_status']\n",
    "    limit_amount = data['limit_amount']\n",
    "    pre_owned_status = data['pre_owned_status']\n",
    "    revolving_count = data['revolving_count']\n",
    "    revolving_amount = data['revolving_amount']\n",
    "    debt_status = data['debt_status']\n",
    "    mortgage = data['mortgage']\n",
    "    debt_amount = data['debt_amount']\n",
    "    balance_amount = data['balance_amount']\n",
    "    debt = data['debt']\n",
    "    delinquent = data['delinquent']\n",
    "    ever_in_use = data['ever_in_use']\n",
    "    new_user = User(\n",
    "        ssn, '.', name, 'iCrediable@nthu.edu.tw', credit_score,\n",
    "        eth_address, eth_password,\n",
    "        education_level, occupation, age, annual_income, employment_year, resident_status, credit_card_status, limit_amount,\n",
    "        pre_owned_status, revolving_count, revolving_amount, debt_status, mortgage, debt_amount, balance_amount, debt, delinquent, ever_in_use,\n",
    "        about_me, emo, peo, sn, risk, idt, emo_freq_sad, emo_freq_haha, emo_freq_wow, emo_freq_angry, emo_freq_love, good_comment, comment, total_comment\n",
    "    )\n",
    "    db.session.merge(new_user)\n",
    "    db.session.commit()\n",
    "#     send ether to the account for gas fee\n",
    "    web3.personal.unlockAccount(master_address, master_passphrase)\n",
    "    tx_hash = web3.eth.sendTransaction({'to': eth_address, 'from': master_address, 'value': 10000000000000000000000})"
   ]
  },
  {
   "cell_type": "markdown",
   "metadata": {},
   "source": [
    "# credit_score 信用點數 * 950\n",
    "credit_matrix: [emo, peo, sn, risk, idt]\n",
    "#情緒互動、人脈連結、社群評論、身份特質、風險程度\n",
    "#情緒互動、人脈連結、社群評論、風險程度、身份特質\n",
    "credit_matrix: [emo, peo, sn, risk, idt]\n",
    "review_pos YCnet 預測的正評比\n",
    "norm_emo_freq\n",
    "norm_emo_freq =\n",
    "['emo_freq_sad', 'emo_freq_haha', 'emo_freq_wow', 'emo_freq_angry', 'emo_freq_love']"
   ]
  },
  {
   "cell_type": "code",
   "execution_count": 9,
   "metadata": {
    "collapsed": true
   },
   "outputs": [],
   "source": [
    "# db.create_all()"
   ]
  },
  {
   "cell_type": "code",
   "execution_count": 24,
   "metadata": {
    "collapsed": false
   },
   "outputs": [],
   "source": [
    "db.session.rollback()"
   ]
  },
  {
   "cell_type": "code",
   "execution_count": 20,
   "metadata": {
    "collapsed": false
   },
   "outputs": [
    {
     "data": {
      "text/plain": [
       "True"
      ]
     },
     "execution_count": 20,
     "metadata": {},
     "output_type": "execute_result"
    }
   ],
   "source": [
    "'的賣場' in ' 的賣場'"
   ]
  },
  {
   "cell_type": "code",
   "execution_count": null,
   "metadata": {
    "collapsed": true
   },
   "outputs": [],
   "source": [
    "with open('/Users/PHE/Documents/github/e_sun/analysis/user_profile_comments.json') as json_data:\n",
    "    comments = json.load(json_data)"
   ]
  },
  {
   "cell_type": "code",
   "execution_count": null,
   "metadata": {
    "collapsed": true
   },
   "outputs": [],
   "source": []
  }
 ],
 "metadata": {
  "kernelspec": {
   "display_name": "Python 3",
   "language": "python",
   "name": "python3"
  },
  "language_info": {
   "codemirror_mode": {
    "name": "ipython",
    "version": 3
   },
   "file_extension": ".py",
   "mimetype": "text/x-python",
   "name": "python",
   "nbconvert_exporter": "python",
   "pygments_lexer": "ipython3",
   "version": "3.5.2"
  }
 },
 "nbformat": 4,
 "nbformat_minor": 2
}
